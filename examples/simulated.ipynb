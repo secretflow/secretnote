{
 "cells": [
  {
   "cell_type": "code",
   "execution_count": 1,
   "metadata": {},
   "outputs": [],
   "source": [
    "from secretnote.compat.secretflow.device.driver import SFConfigSimulationFullyManaged\n",
    "\n",
    "secretflow_config = SFConfigSimulationFullyManaged(parties=[\"alice\", \"bob\"])\n"
   ]
  },
  {
   "cell_type": "code",
   "execution_count": 2,
   "metadata": {},
   "outputs": [
    {
     "name": "stderr",
     "output_type": "stream",
     "text": [
      "2023-10-09 12:55:38,057\tINFO util.py:159 -- Missing packages: ['ipywidgets']. Run `pip install -U ipywidgets`, then restart the notebook server for rich notebook output.\n",
      "2023-10-09 12:55:40,393\tINFO worker.py:1612 -- Started a local Ray instance. View the dashboard at \u001b[1m\u001b[32mhttp://127.0.0.1:8265 \u001b[39m\u001b[22m\n"
     ]
    }
   ],
   "source": [
    "import secretflow\n",
    "\n",
    "secretflow.shutdown()\n",
    "secretflow.init(**secretflow_config.dict())\n"
   ]
  },
  {
   "cell_type": "code",
   "execution_count": 3,
   "metadata": {},
   "outputs": [],
   "source": [
    "alice = secretflow.PYU(\"alice\")\n",
    "bob = secretflow.PYU(\"bob\")\n"
   ]
  },
  {
   "cell_type": "code",
   "execution_count": 4,
   "metadata": {},
   "outputs": [],
   "source": [
    "from secretnote.compat.spu import (\n",
    "    SPUConfig,\n",
    "    SPUClusterDef,\n",
    "    SPUNode,\n",
    "    SPUProtocolKind,\n",
    "    SPUFieldType,\n",
    "    SPURuntimeConfig,\n",
    ")\n",
    "\n",
    "spu_config = SPUConfig(\n",
    "    cluster_def=SPUClusterDef(\n",
    "        nodes=[\n",
    "            SPUNode(party=\"alice\", address=\"localhost:32767\"),\n",
    "            SPUNode(party=\"bob\", address=\"localhost:32768\"),\n",
    "        ],\n",
    "        runtime_config=SPURuntimeConfig(\n",
    "            protocol=SPUProtocolKind.SEMI2K,\n",
    "            field=SPUFieldType.FM128,\n",
    "        ),\n",
    "    ),\n",
    ")\n"
   ]
  },
  {
   "cell_type": "code",
   "execution_count": 5,
   "metadata": {},
   "outputs": [],
   "source": [
    "spu = secretflow.SPU(**spu_config.dict())\n"
   ]
  },
  {
   "cell_type": "code",
   "execution_count": 6,
   "metadata": {},
   "outputs": [],
   "source": [
    "from opentelemetry import trace\n",
    "from opentelemetry.exporter.otlp.proto.grpc.trace_exporter import OTLPSpanExporter\n",
    "from opentelemetry.sdk.resources import SERVICE_NAME, Resource\n",
    "from opentelemetry.sdk.trace import TracerProvider\n",
    "from opentelemetry.sdk.trace.export import SimpleSpanProcessor\n",
    "\n",
    "from secretnote.instrumentation import Profiler\n",
    "from secretnote.instrumentation.models import ProfilerRule\n",
    "\n",
    "\n",
    "resource = Resource(attributes={SERVICE_NAME: \"simulation\"})\n",
    "provider = TracerProvider(resource=resource)\n",
    "provider.add_span_processor(\n",
    "    SimpleSpanProcessor(OTLPSpanExporter(endpoint=\"localhost:4317\", insecure=True)),\n",
    ")\n",
    "trace.set_tracer_provider(provider)\n"
   ]
  },
  {
   "cell_type": "code",
   "execution_count": 7,
   "metadata": {},
   "outputs": [
    {
     "name": "stderr",
     "output_type": "stream",
     "text": [
      "INFO:jax._src.xla_bridge:Unable to initialize backend 'cuda': module 'jaxlib.xla_extension' has no attribute 'GpuAllocatorConfig'\n",
      "INFO:jax._src.xla_bridge:Unable to initialize backend 'rocm': module 'jaxlib.xla_extension' has no attribute 'GpuAllocatorConfig'\n",
      "INFO:jax._src.xla_bridge:Unable to initialize backend 'tpu': module 'jaxlib.xla_extension' has no attribute 'get_tpu_client'\n",
      "INFO:jax._src.xla_bridge:Unable to initialize backend 'plugin': xla_extension has no attributes named get_plugin_device_client. Compile TensorFlow with //tensorflow/compiler/xla/python:enable_plugin_device set to true (defaults to false) to enable this.\n",
      "\u001b[2m\u001b[36m(_run pid=45181)\u001b[0m INFO:jax._src.xla_bridge:Unable to initialize backend 'cuda': module 'jaxlib.xla_extension' has no attribute 'GpuAllocatorConfig'\n",
      "\u001b[2m\u001b[36m(_run pid=45181)\u001b[0m INFO:jax._src.xla_bridge:Unable to initialize backend 'rocm': module 'jaxlib.xla_extension' has no attribute 'GpuAllocatorConfig'\n",
      "\u001b[2m\u001b[36m(_run pid=45181)\u001b[0m INFO:jax._src.xla_bridge:Unable to initialize backend 'tpu': module 'jaxlib.xla_extension' has no attribute 'get_tpu_client'\n",
      "\u001b[2m\u001b[36m(_run pid=45181)\u001b[0m INFO:jax._src.xla_bridge:Unable to initialize backend 'plugin': xla_extension has no attributes named get_plugin_device_client. Compile TensorFlow with //tensorflow/compiler/xla/python:enable_plugin_device set to true (defaults to false) to enable this.\n"
     ]
    },
    {
     "name": "stdout",
     "output_type": "stream",
     "text": [
      "\u001b[2m\u001b[36m(SPURuntime pid=45199)\u001b[0m 2023-10-09 12:55:42.340 [info] [default_brpc_retry_policy.cc:DoRetry:52] socket error, sleep=1000000us and retry\n",
      "\u001b[2m\u001b[36m(SPURuntime pid=45199)\u001b[0m 2023-10-09 12:55:43.341 [info] [default_brpc_retry_policy.cc:LogHttpDetail:33] cntl ErrorCode '64', http status code '200', response header '', error msg '[E61]Fail to connect Socket{id=0 addr=127.0.0.1:32768} (0x0x138118000): Connection refused [R1][E64]Not connected to 127.0.0.1:32768 yet, server_id=0'\n",
      "\u001b[2m\u001b[36m(SPURuntime pid=45199)\u001b[0m 2023-10-09 12:55:43.341 [info] [default_brpc_retry_policy.cc:DoRetry:75] aggressive retry, sleep=1000000us and retry\n",
      "\u001b[2m\u001b[36m(SPURuntime pid=45201)\u001b[0m 2023-10-09 12:55:44.345 [info] [default_brpc_retry_policy.cc:DoRetry:71] not retry for reached rcp timeout, ErrorCode '1008', error msg '[E1008]Reached timeout=2000ms @127.0.0.1:32767'\n",
      "\u001b[2m\u001b[36m(SPURuntime pid=45199)\u001b[0m 2023-10-09 12:55:44.341 [info] [default_brpc_retry_policy.cc:LogHttpDetail:33] cntl ErrorCode '64', http status code '200', response header '', error msg '[E61]Fail to connect Socket{id=0 addr=127.0.0.1:32768} (0x0x138118000): Connection refused [R1][E64]Not connected to 127.0.0.1:32768 yet, server_id=0 [R2][E64]Not connected to 127.0.0.1:32768 yet, server_id=0'\n",
      "\u001b[2m\u001b[36m(SPURuntime pid=45199)\u001b[0m 2023-10-09 12:55:44.341 [info] [default_brpc_retry_policy.cc:DoRetry:75] aggressive retry, sleep=1000000us and retry\n"
     ]
    }
   ],
   "source": [
    "import jax.numpy as jnp\n",
    "import re\n",
    "\n",
    "\n",
    "def dot(x, y):\n",
    "    return jnp.dot(x, y)\n",
    "\n",
    "\n",
    "rules = [\n",
    "    ProfilerRule(\n",
    "        file=re.compile(r\"^secretflow/.*\"),\n",
    "        func_name=re.compile(r\".*\"),\n",
    "    ),\n",
    "]\n",
    "\n",
    "with Profiler(rules):\n",
    "    x = secretflow.to(alice, jnp.asarray([1, 2, 3]))\n",
    "    y = secretflow.to(bob, jnp.asarray([1, 2, 3]))\n",
    "    z = x.to(spu)\n",
    "    w = y.to(spu)\n",
    "    r = spu(dot)(z, w)\n",
    "    s = r.to(alice)\n",
    "    secretflow.reveal(s)\n"
   ]
  }
 ],
 "metadata": {
  "kernelspec": {
   "display_name": ".venv",
   "language": "python",
   "name": "python3"
  },
  "language_info": {
   "codemirror_mode": {
    "name": "ipython",
    "version": 3
   },
   "file_extension": ".py",
   "mimetype": "text/x-python",
   "name": "python",
   "nbconvert_exporter": "python",
   "pygments_lexer": "ipython3",
   "version": "3.8.17"
  },
  "orig_nbformat": 4
 },
 "nbformat": 4,
 "nbformat_minor": 2
}
