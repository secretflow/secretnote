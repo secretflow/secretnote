{
 "cells": [
  {
   "cell_type": "code",
   "execution_count": null,
   "metadata": {},
   "outputs": [],
   "source": [
    "from secretnote.compat.secretflow.device.driver import SFConfigSimulationFullyManaged\n",
    "\n",
    "secretflow_config = SFConfigSimulationFullyManaged(parties=[\"alice\", \"bob\"])"
   ]
  },
  {
   "cell_type": "code",
   "execution_count": null,
   "metadata": {},
   "outputs": [],
   "source": [
    "import secretflow\n",
    "\n",
    "secretflow.shutdown()\n",
    "secretflow.init(**secretflow_config.dict())"
   ]
  },
  {
   "cell_type": "code",
   "execution_count": null,
   "metadata": {},
   "outputs": [],
   "source": [
    "alice = secretflow.PYU(\"alice\")\n",
    "bob = secretflow.PYU(\"bob\")"
   ]
  },
  {
   "cell_type": "code",
   "execution_count": null,
   "metadata": {},
   "outputs": [],
   "source": [
    "from secretnote.compat.spu import (\n",
    "    SPUConfig,\n",
    "    SPUClusterDef,\n",
    "    SPUNode,\n",
    "    SPUProtocolKind,\n",
    "    SPUFieldType,\n",
    "    SPURuntimeConfig,\n",
    ")\n",
    "\n",
    "spu_config = SPUConfig(\n",
    "    cluster_def=SPUClusterDef(\n",
    "        nodes=[\n",
    "            SPUNode(party=\"alice\", address=\"localhost:32767\"),\n",
    "            SPUNode(party=\"bob\", address=\"localhost:32768\"),\n",
    "        ],\n",
    "        runtime_config=SPURuntimeConfig(\n",
    "            protocol=SPUProtocolKind.SEMI2K,\n",
    "            field=SPUFieldType.FM128,\n",
    "        ),\n",
    "    ),\n",
    ")"
   ]
  },
  {
   "cell_type": "code",
   "execution_count": null,
   "metadata": {},
   "outputs": [],
   "source": [
    "spu = secretflow.SPU(**spu_config.dict())"
   ]
  },
  {
   "cell_type": "code",
   "execution_count": null,
   "metadata": {},
   "outputs": [],
   "source": [
    "from opentelemetry import trace\n",
    "from opentelemetry.exporter.otlp.proto.grpc.trace_exporter import OTLPSpanExporter\n",
    "from opentelemetry.sdk.resources import SERVICE_NAME, Resource\n",
    "from opentelemetry.sdk.trace import TracerProvider\n",
    "from opentelemetry.sdk.trace.export import BatchSpanProcessor\n",
    "\n",
    "from secretnote.instrumentation import ProfilingInstrumentor, MermaidExporter\n",
    "\n",
    "mermaid = MermaidExporter()\n",
    "\n",
    "resource = Resource(attributes={SERVICE_NAME: \"simulation\"})\n",
    "provider = TracerProvider(resource=resource)\n",
    "provider.add_span_processor(\n",
    "    BatchSpanProcessor(OTLPSpanExporter(endpoint=\"localhost:4317\", insecure=True)),\n",
    ")\n",
    "provider.add_span_processor(\n",
    "    BatchSpanProcessor(mermaid),\n",
    ")\n",
    "trace.set_tracer_provider(provider)"
   ]
  },
  {
   "cell_type": "code",
   "execution_count": null,
   "metadata": {},
   "outputs": [],
   "source": [
    "import jax.numpy as jnp\n",
    "\n",
    "import secretnote.functional as sfx\n",
    "\n",
    "\n",
    "def dot(x, y):\n",
    "    return jnp.dot(x, y)\n",
    "\n",
    "\n",
    "with ProfilingInstrumentor():\n",
    "    x = sfx.use_cleartext(alice)(jnp.asarray([1, 2, 3]))\n",
    "    y = sfx.use_cleartext(bob)(jnp.asarray([1, 2, 3]))\n",
    "    z = sfx.use_relocation(spu, x)()\n",
    "    w = sfx.use_relocation(spu, y)()\n",
    "    r = sfx.use_function(spu, z, w)(dot)\n",
    "    s = sfx.use_relocation(alice, r)()\n",
    "    secretflow.reveal(s)"
   ]
  },
  {
   "cell_type": "code",
   "execution_count": null,
   "metadata": {},
   "outputs": [],
   "source": [
    "print(mermaid.graph())"
   ]
  }
 ],
 "metadata": {
  "kernelspec": {
   "display_name": ".venv",
   "language": "python",
   "name": "python3"
  },
  "language_info": {
   "codemirror_mode": {
    "name": "ipython",
    "version": 3
   },
   "file_extension": ".py",
   "mimetype": "text/x-python",
   "name": "python",
   "nbconvert_exporter": "python",
   "pygments_lexer": "ipython3",
   "version": "3.8.17"
  },
  "orig_nbformat": 4
 },
 "nbformat": 4,
 "nbformat_minor": 2
}
