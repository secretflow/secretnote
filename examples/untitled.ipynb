{
 "cells": [
  {
   "cell_type": "code",
   "execution_count": 2,
   "metadata": {},
   "outputs": [],
   "source": [
    "from secretnote.formal.symbols import Program, Function, Location, IO\n",
    "\n",
    "io = IO()\n",
    "alice = Location(kind=\"PYU\", parties=(\"alice\",))\n",
    "bob = Location(kind=\"PYU\", parties=(\"bob\",))\n",
    "spu = Location(kind=\"SPU\", parties=(\"alice\", \"bob\"))\n"
   ]
  },
  {
   "cell_type": "code",
   "execution_count": 3,
   "metadata": {},
   "outputs": [],
   "source": [
    "p = Program(\n",
    "    applications=(\n",
    "        Function(arguments=(io,), result=alice),\n",
    "        Function(arguments=(io,), result=alice),\n",
    "        Function(arguments=(1, io), result=spu),\n",
    "        Function(arguments=(2, io), result=spu),\n",
    "        Function(arguments=(4,), result=bob),\n",
    "        Function(arguments=(5,), result=io),\n",
    "    )\n",
    ")\n"
   ]
  },
  {
   "cell_type": "code",
   "execution_count": 4,
   "metadata": {},
   "outputs": [
    {
     "name": "stdout",
     "output_type": "stream",
     "text": [
      "Program(\n",
      "  1 :: IO() -> PYU(alice)\n",
      "  2 :: IO() -> PYU(alice)\n",
      "  3 :: 1 -> IO() -> SPU(alice, bob)\n",
      "  4 :: 2 -> IO() -> SPU(alice, bob)\n",
      "  5 :: 4 -> PYU(bob)\n",
      "  6 :: 5 -> IO()\n",
      ")\n"
     ]
    }
   ],
   "source": [
    "print(p)\n"
   ]
  },
  {
   "cell_type": "code",
   "execution_count": 5,
   "metadata": {},
   "outputs": [
    {
     "data": {
      "text/plain": [
       "True"
      ]
     },
     "execution_count": 5,
     "metadata": {},
     "output_type": "execute_result"
    }
   ],
   "source": [
    "p == p\n"
   ]
  },
  {
   "cell_type": "code",
   "execution_count": 6,
   "metadata": {},
   "outputs": [],
   "source": [
    "p2 = Program(\n",
    "    applications=(\n",
    "        Function(arguments=(io,), result=alice),\n",
    "        Function(arguments=(io,), result=alice),\n",
    "        Function(arguments=(2, io), result=spu),\n",
    "        Function(arguments=(1, io), result=spu),\n",
    "        Function(arguments=(4,), result=bob),\n",
    "        Function(arguments=(5,), result=io),\n",
    "    )\n",
    ")\n"
   ]
  },
  {
   "cell_type": "code",
   "execution_count": 7,
   "metadata": {},
   "outputs": [
    {
     "data": {
      "text/plain": [
       "False"
      ]
     },
     "execution_count": 7,
     "metadata": {},
     "output_type": "execute_result"
    }
   ],
   "source": [
    "p == p2\n"
   ]
  },
  {
   "cell_type": "code",
   "execution_count": 8,
   "metadata": {},
   "outputs": [
    {
     "name": "stdout",
     "output_type": "stream",
     "text": [
      "Program(\n",
      "  1 :: IO() -> PYU(alice)\n",
      "  2 :: IO() -> PYU(alice)\n",
      "  3 :: 2 -> IO() -> SPU(alice, bob)\n",
      "  4 :: 1 -> IO() -> SPU(alice, bob)\n",
      "  5 :: 4 -> PYU(bob)\n",
      "  6 :: 5 -> IO()\n",
      ")\n"
     ]
    }
   ],
   "source": [
    "print(p2)\n"
   ]
  },
  {
   "cell_type": "code",
   "execution_count": 9,
   "metadata": {},
   "outputs": [],
   "source": [
    "p3 = Program(applications=tuple([*p, p2]))\n"
   ]
  },
  {
   "cell_type": "code",
   "execution_count": 10,
   "metadata": {},
   "outputs": [
    {
     "data": {
      "text/plain": [
       "Program(applications=(Function(arguments=(IO(),), result=Location(kind='PYU', parties=('alice',)), name=None), Function(arguments=(IO(),), result=Location(kind='PYU', parties=('alice',)), name=None), Function(arguments=(1, IO()), result=Location(kind='SPU', parties=('alice', 'bob')), name=None), Function(arguments=(2, IO()), result=Location(kind='SPU', parties=('alice', 'bob')), name=None), Function(arguments=(4,), result=Location(kind='PYU', parties=('bob',)), name=None), Function(arguments=(5,), result=IO(), name=None), Program(applications=(Function(arguments=(IO(),), result=Location(kind='PYU', parties=('alice',)), name=None), Function(arguments=(IO(),), result=Location(kind='PYU', parties=('alice',)), name=None), Function(arguments=(2, IO()), result=Location(kind='SPU', parties=('alice', 'bob')), name=None), Function(arguments=(1, IO()), result=Location(kind='SPU', parties=('alice', 'bob')), name=None), Function(arguments=(4,), result=Location(kind='PYU', parties=('bob',)), name=None), Function(arguments=(5,), result=IO(), name=None)), name=None)), name=None)"
      ]
     },
     "execution_count": 10,
     "metadata": {},
     "output_type": "execute_result"
    }
   ],
   "source": [
    "Program.parse_raw(p3.json())\n"
   ]
  },
  {
   "cell_type": "code",
   "execution_count": 26,
   "metadata": {},
   "outputs": [],
   "source": [
    "import flatdict\n",
    "\n",
    "d = flatdict.FlatterDict(p3.dict())\n",
    "\n",
    "r = flatdict.FlatterDict({k: v for k, v in d.items()})\n"
   ]
  }
 ],
 "metadata": {
  "kernelspec": {
   "display_name": ".venv",
   "language": "python",
   "name": "python3"
  },
  "language_info": {
   "codemirror_mode": {
    "name": "ipython",
    "version": 3
   },
   "file_extension": ".py",
   "mimetype": "text/x-python",
   "name": "python",
   "nbconvert_exporter": "python",
   "pygments_lexer": "ipython3",
   "version": "3.8.17"
  }
 },
 "nbformat": 4,
 "nbformat_minor": 2
}
