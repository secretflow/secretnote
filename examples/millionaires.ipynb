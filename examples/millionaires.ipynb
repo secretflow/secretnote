{
 "cells": [
  {
   "cell_type": "code",
   "execution_count": null,
   "metadata": {},
   "outputs": [],
   "source": [
    "from secretnote.compat.secretflow.device.driver import SFConfigSimulationFullyManaged\n",
    "\n",
    "secretflow_config = SFConfigSimulationFullyManaged(\n",
    "    parties=[\"alice\", \"bob\", \"carol\", \"dave\"]\n",
    ")\n"
   ]
  },
  {
   "cell_type": "code",
   "execution_count": null,
   "metadata": {},
   "outputs": [],
   "source": [
    "import secretflow\n",
    "\n",
    "secretflow.shutdown()\n",
    "secretflow.init(**secretflow_config.dict())\n"
   ]
  },
  {
   "cell_type": "code",
   "execution_count": null,
   "metadata": {},
   "outputs": [],
   "source": [
    "from secretnote.compat.spu import (\n",
    "    SPUConfig,\n",
    "    SPUClusterDef,\n",
    "    SPUNode,\n",
    "    SPUProtocolKind,\n",
    "    SPUFieldType,\n",
    "    SPURuntimeConfig,\n",
    ")\n",
    "\n",
    "spu_config = SPUConfig(\n",
    "    cluster_def=SPUClusterDef(\n",
    "        nodes=[\n",
    "            SPUNode(party=\"alice\", address=\"localhost:32767\"),\n",
    "            SPUNode(party=\"bob\", address=\"localhost:32768\"),\n",
    "            SPUNode(party=\"carol\", address=\"localhost:32769\"),\n",
    "        ],\n",
    "        runtime_config=SPURuntimeConfig(\n",
    "            protocol=SPUProtocolKind.ABY3,\n",
    "            field=SPUFieldType.FM128,\n",
    "        ),\n",
    "    ),\n",
    ")\n"
   ]
  },
  {
   "cell_type": "code",
   "execution_count": null,
   "metadata": {},
   "outputs": [],
   "source": [
    "alice = secretflow.PYU(\"alice\")\n",
    "carol = secretflow.PYU(\"carol\")\n",
    "dave = secretflow.PYU(\"dave\")\n"
   ]
  },
  {
   "cell_type": "code",
   "execution_count": null,
   "metadata": {},
   "outputs": [],
   "source": [
    "spu = secretflow.SPU(**spu_config.dict())\n"
   ]
  },
  {
   "cell_type": "code",
   "execution_count": null,
   "metadata": {},
   "outputs": [],
   "source": [
    "from opentelemetry import trace\n",
    "from opentelemetry.exporter.otlp.proto.grpc.trace_exporter import OTLPSpanExporter\n",
    "from opentelemetry.sdk.resources import SERVICE_NAME, Resource\n",
    "from opentelemetry.sdk.trace import TracerProvider\n",
    "from opentelemetry.sdk.trace.export import SimpleSpanProcessor\n",
    "\n",
    "from secretnote.instrumentation import ProfilingInstrumentor, MermaidExporter\n",
    "\n",
    "mermaid = MermaidExporter()\n",
    "\n",
    "resource = Resource(attributes={SERVICE_NAME: \"simulation\"})\n",
    "provider = TracerProvider(resource=resource)\n",
    "provider.add_span_processor(\n",
    "    SimpleSpanProcessor(OTLPSpanExporter(endpoint=\"localhost:4317\", insecure=True)),\n",
    ")\n",
    "provider.add_span_processor(\n",
    "    SimpleSpanProcessor(mermaid),\n",
    ")\n",
    "trace.set_tracer_provider(provider)\n"
   ]
  },
  {
   "cell_type": "code",
   "execution_count": null,
   "metadata": {},
   "outputs": [],
   "source": [
    "import secretnote.functional as sfx\n",
    "\n",
    "\n",
    "def compare(x: float, y: float):\n",
    "    return x > y\n"
   ]
  },
  {
   "cell_type": "code",
   "execution_count": null,
   "metadata": {},
   "outputs": [],
   "source": [
    "with ProfilingInstrumentor():\n",
    "    carol_assets = sfx.use_cleartext(carol)(1000000.0)\n",
    "    carol_assets = sfx.use_relocation(spu, carol_assets)()\n",
    "    dave_assets = sfx.use_cleartext(dave)(1000002.0)\n",
    "    dave_assets = sfx.use_relocation(spu, dave_assets)()\n",
    "    carol_is_richer = sfx.use_function(spu, carol_assets, dave_assets)(compare)\n",
    "    carol_is_richer = sfx.use_relocation(alice, carol_is_richer)()\n",
    "    secretflow.reveal(carol_is_richer)\n"
   ]
  },
  {
   "cell_type": "code",
   "execution_count": null,
   "metadata": {},
   "outputs": [],
   "source": [
    "print(mermaid.graph())\n"
   ]
  }
 ],
 "metadata": {
  "kernelspec": {
   "display_name": ".venv",
   "language": "python",
   "name": "python3"
  },
  "language_info": {
   "codemirror_mode": {
    "name": "ipython",
    "version": 3
   },
   "file_extension": ".py",
   "mimetype": "text/x-python",
   "name": "python",
   "nbconvert_exporter": "python",
   "pygments_lexer": "ipython3",
   "version": "3.8.17"
  },
  "orig_nbformat": 4
 },
 "nbformat": 4,
 "nbformat_minor": 2
}
