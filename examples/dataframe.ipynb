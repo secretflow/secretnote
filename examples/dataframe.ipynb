{
 "cells": [
  {
   "cell_type": "code",
   "execution_count": null,
   "metadata": {},
   "outputs": [],
   "source": [
    "from opentelemetry import trace\n",
    "from opentelemetry.exporter.otlp.proto.grpc.trace_exporter import OTLPSpanExporter\n",
    "from opentelemetry.sdk.resources import SERVICE_NAME, Resource\n",
    "from opentelemetry.sdk.trace import TracerProvider\n",
    "from opentelemetry.sdk.trace.export import BatchSpanProcessor\n",
    "from secretnote.instrumentation import ProfilingInstrumentor, MermaidExporter\n",
    "\n",
    "mermaid = MermaidExporter()\n",
    "\n",
    "resource = Resource(attributes={SERVICE_NAME: \"simulation\"})\n",
    "provider = TracerProvider(resource=resource)\n",
    "provider.add_span_processor(\n",
    "    BatchSpanProcessor(OTLPSpanExporter(endpoint=\"localhost:4317\", insecure=True)),\n",
    ")\n",
    "provider.add_span_processor(\n",
    "    BatchSpanProcessor(mermaid),\n",
    ")\n",
    "trace.set_tracer_provider(provider)"
   ]
  },
  {
   "cell_type": "code",
   "execution_count": null,
   "metadata": {},
   "outputs": [],
   "source": [
    "instrumentor = ProfilingInstrumentor()\n",
    "instrumentor.start()"
   ]
  },
  {
   "cell_type": "code",
   "execution_count": null,
   "metadata": {},
   "outputs": [],
   "source": [
    "import secretflow as sf\n",
    "\n",
    "# In case you have a running secretflow runtime already.\n",
    "sf.shutdown()\n",
    "\n",
    "sf.init([\"alice\", \"bob\", \"carol\"], address=\"local\")\n",
    "alice, bob, carol = sf.PYU(\"alice\"), sf.PYU(\"bob\"), sf.PYU(\"carol\")"
   ]
  },
  {
   "cell_type": "code",
   "execution_count": null,
   "metadata": {},
   "outputs": [],
   "source": [
    "import pandas as pd\n",
    "from sklearn.datasets import load_iris\n",
    "\n",
    "iris = load_iris(as_frame=True)\n",
    "data = pd.concat([iris.data, iris.target], axis=1)\n",
    "data"
   ]
  },
  {
   "cell_type": "code",
   "execution_count": null,
   "metadata": {},
   "outputs": [],
   "source": [
    "# Horizontal partitioning.\n",
    "h_alice, h_bob, h_carol = data.iloc[:40, :], data.iloc[40:100, :], data.iloc[100:, :]\n",
    "\n",
    "# Save to temporary files.\n",
    "import tempfile\n",
    "import os\n",
    "\n",
    "temp_dir = tempfile.mkdtemp()\n",
    "\n",
    "h_alice_path = os.path.join(temp_dir, \"h_alice.csv\")\n",
    "h_bob_path = os.path.join(temp_dir, \"h_bob.csv\")\n",
    "h_carol_path = os.path.join(temp_dir, \"h_carol.csv\")\n",
    "h_alice.to_csv(h_alice_path, index=False)\n",
    "h_bob.to_csv(h_bob_path, index=False)\n",
    "h_carol.to_csv(h_carol_path, index=False)"
   ]
  },
  {
   "cell_type": "code",
   "execution_count": null,
   "metadata": {},
   "outputs": [],
   "source": [
    "h_alice.head(), h_bob.head(), h_carol.head()"
   ]
  },
  {
   "cell_type": "code",
   "execution_count": null,
   "metadata": {},
   "outputs": [],
   "source": [
    "# Vertical partitioning.\n",
    "v_alice, v_bob, v_carol = data.iloc[:, :2], data.iloc[:, 2:4], data.iloc[:, 4:]\n",
    "\n",
    "# Save to temporary files.\n",
    "v_alice_path = os.path.join(temp_dir, \"v_alice.csv\")\n",
    "v_bob_path = os.path.join(temp_dir, \"v_bob.csv\")\n",
    "v_carol_path = os.path.join(temp_dir, \"v_carol.csv\")\n",
    "v_alice.to_csv(v_alice_path, index=False)\n",
    "v_bob.to_csv(v_bob_path, index=False)\n",
    "v_carol.to_csv(v_carol_path, index=False)"
   ]
  },
  {
   "cell_type": "code",
   "execution_count": null,
   "metadata": {},
   "outputs": [],
   "source": [
    "v_alice, v_bob, v_carol"
   ]
  },
  {
   "cell_type": "code",
   "execution_count": null,
   "metadata": {},
   "outputs": [],
   "source": [
    "from secretflow.data.horizontal import read_csv as h_read_csv\n",
    "from secretflow.security.aggregation import SecureAggregator\n",
    "from secretflow.security.compare import SPUComparator\n",
    "\n",
    "# The aggregator and comparator are respectively used to aggregate\n",
    "# or compare data in subsequent data analysis operations.\n",
    "aggr = SecureAggregator(device=alice, participants=[alice, bob, carol])\n",
    "\n",
    "spu = sf.SPU(sf.utils.testing.cluster_def(parties=[\"alice\", \"bob\", \"carol\"]))\n",
    "comp = SPUComparator(spu)\n",
    "hdf = h_read_csv(\n",
    "    {alice: h_alice_path, bob: h_bob_path, carol: h_carol_path},\n",
    "    aggregator=aggr,\n",
    "    comparator=comp,\n",
    ")"
   ]
  },
  {
   "cell_type": "code",
   "execution_count": null,
   "metadata": {},
   "outputs": [],
   "source": [
    "from secretflow.data.vertical import read_csv as v_read_csv\n",
    "\n",
    "vdf = v_read_csv({alice: v_alice_path, bob: v_bob_path, carol: v_carol_path})"
   ]
  },
  {
   "cell_type": "code",
   "execution_count": null,
   "metadata": {},
   "outputs": [],
   "source": [
    "hdf.columns"
   ]
  },
  {
   "cell_type": "code",
   "execution_count": null,
   "metadata": {},
   "outputs": [],
   "source": [
    "vdf.columns"
   ]
  },
  {
   "cell_type": "code",
   "execution_count": null,
   "metadata": {},
   "outputs": [],
   "source": [
    "print(\"Horizontal df:\\n\", hdf.min())\n",
    "print(\"\\nVertical df:\\n\", vdf.min())\n",
    "print(\"\\nPandas:\\n\", data.min())"
   ]
  },
  {
   "cell_type": "code",
   "execution_count": null,
   "metadata": {},
   "outputs": [],
   "source": [
    "hdf.max()"
   ]
  },
  {
   "cell_type": "code",
   "execution_count": null,
   "metadata": {},
   "outputs": [],
   "source": [
    "vdf.max()"
   ]
  },
  {
   "cell_type": "code",
   "execution_count": null,
   "metadata": {},
   "outputs": [],
   "source": [
    "hdf.mean(numeric_only=True)"
   ]
  },
  {
   "cell_type": "code",
   "execution_count": null,
   "metadata": {},
   "outputs": [],
   "source": [
    "vdf.mean(numeric_only=True)"
   ]
  },
  {
   "cell_type": "code",
   "execution_count": null,
   "metadata": {},
   "outputs": [],
   "source": [
    "hdf.count()"
   ]
  },
  {
   "cell_type": "code",
   "execution_count": null,
   "metadata": {},
   "outputs": [],
   "source": [
    "vdf.count()"
   ]
  },
  {
   "cell_type": "code",
   "execution_count": null,
   "metadata": {},
   "outputs": [],
   "source": [
    "hdf_part = hdf[[\"sepal length (cm)\", \"target\"]]\n",
    "hdf_part.mean(numeric_only=True)"
   ]
  },
  {
   "cell_type": "code",
   "execution_count": null,
   "metadata": {},
   "outputs": [],
   "source": [
    "vdf_part = hdf[[\"sepal width (cm)\", \"target\"]]\n",
    "vdf_part.mean(numeric_only=True)"
   ]
  },
  {
   "cell_type": "code",
   "execution_count": null,
   "metadata": {},
   "outputs": [],
   "source": [
    "hdf_copy = hdf.copy()\n",
    "print(\"Min of target: \", hdf_copy[\"target\"].min()[0])\n",
    "print(\"Max of target: \", hdf_copy[\"target\"].max()[0])"
   ]
  },
  {
   "cell_type": "code",
   "execution_count": null,
   "metadata": {},
   "outputs": [],
   "source": [
    "# Set target to 1。\n",
    "hdf_copy[\"target\"] = 1\n",
    "\n",
    "# You can see that the value of target has become 1.\n",
    "print(\"Min of target: \", hdf_copy[\"target\"].min()[0])\n",
    "print(\"Max of target: \", hdf_copy[\"target\"].max()[0])"
   ]
  },
  {
   "cell_type": "code",
   "execution_count": null,
   "metadata": {},
   "outputs": [],
   "source": [
    "vdf_copy = vdf.copy()\n",
    "print(\"Min of sepal width (cm): \", vdf_copy[\"sepal width (cm)\"].min()[0])\n",
    "print(\"Max of sepal width (cm): \", vdf_copy[\"sepal width (cm)\"].max()[0])"
   ]
  },
  {
   "cell_type": "code",
   "execution_count": null,
   "metadata": {},
   "outputs": [],
   "source": [
    "# Set sepal width (cm) to 20。\n",
    "vdf_copy[\"sepal width (cm)\"] = 20\n",
    "\n",
    "# You can see that the value of sepal width (cm) has become 20.\n",
    "print(\"Min of sepal width (cm): \", vdf_copy[\"sepal width (cm)\"].min()[0])\n",
    "print(\"Max of sepal width (cm): \", vdf_copy[\"sepal width (cm)\"].max()[0])"
   ]
  },
  {
   "cell_type": "code",
   "execution_count": null,
   "metadata": {},
   "outputs": [],
   "source": [
    "instrumentor.stop()"
   ]
  },
  {
   "cell_type": "code",
   "execution_count": null,
   "metadata": {},
   "outputs": [],
   "source": [
    "print(mermaid.graph())"
   ]
  }
 ],
 "metadata": {
  "kernelspec": {
   "display_name": ".venv",
   "language": "python",
   "name": "python3"
  },
  "language_info": {
   "codemirror_mode": {
    "name": "ipython",
    "version": 3
   },
   "file_extension": ".py",
   "mimetype": "text/x-python",
   "name": "python",
   "nbconvert_exporter": "python",
   "pygments_lexer": "ipython3",
   "version": "3.8.17"
  },
  "orig_nbformat": 4
 },
 "nbformat": 4,
 "nbformat_minor": 2
}
