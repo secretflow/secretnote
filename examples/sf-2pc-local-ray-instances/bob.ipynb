{
 "cells": [
  {
   "cell_type": "markdown",
   "id": "b5b2d474",
   "metadata": {
    "papermill": {
     "duration": 0.002938,
     "end_time": "2023-09-18T00:12:41.900146",
     "exception": false,
     "start_time": "2023-09-18T00:12:41.897208",
     "status": "completed"
    },
    "tags": []
   },
   "source": [
    "# SecretFlow is like React Hooks [bob]\n"
   ]
  },
  {
   "cell_type": "code",
   "execution_count": null,
   "id": "3c3e6bbd",
   "metadata": {
    "execution": {
     "iopub.execute_input": "2023-09-18T00:12:42.900256Z",
     "iopub.status.busy": "2023-09-18T00:12:42.900077Z",
     "iopub.status.idle": "2023-09-18T00:12:42.901838Z",
     "shell.execute_reply": "2023-09-18T00:12:42.901575Z"
    },
    "papermill": {
     "duration": 0.003828,
     "end_time": "2023-09-18T00:12:42.902739",
     "exception": false,
     "start_time": "2023-09-18T00:12:42.898911",
     "status": "completed"
    },
    "tags": []
   },
   "outputs": [],
   "source": [
    "self_party: str = \"bob\"\n",
    "peer_party: str = \"alice\"\n",
    "self_ray_port: int = 32401\n",
    "peer_ray_port: int = 32400\n",
    "self_secretflow_port: int = 8081\n",
    "peer_secretflow_port: int = 8080\n",
    "self_spu_port: int = 8091\n",
    "peer_spu_port: int = 8090"
   ]
  },
  {
   "cell_type": "code",
   "execution_count": null,
   "id": "dc6dfd39",
   "metadata": {
    "execution": {
     "iopub.execute_input": "2023-09-18T00:12:42.909843Z",
     "iopub.status.busy": "2023-09-18T00:12:42.909717Z",
     "iopub.status.idle": "2023-09-18T00:12:42.947263Z",
     "shell.execute_reply": "2023-09-18T00:12:42.946964Z"
    },
    "papermill": {
     "duration": 0.040205,
     "end_time": "2023-09-18T00:12:42.948467",
     "exception": false,
     "start_time": "2023-09-18T00:12:42.908262",
     "status": "completed"
    },
    "tags": []
   },
   "outputs": [],
   "source": [
    "from secretnote.compat.secretflow.device.driver import (\n",
    "    SFConfigNetworked,\n",
    "    SFClusterConfig,\n",
    "    SFClusterParty,\n",
    ")\n",
    "\n",
    "secretflow_config = SFConfigNetworked(\n",
    "    address=f\"localhost:{self_ray_port}\",\n",
    "    cluster_config=SFClusterConfig(\n",
    "        parties={\n",
    "            self_party: SFClusterParty(address=f\"127.0.0.1:{self_secretflow_port}\"),\n",
    "            peer_party: SFClusterParty(address=f\"127.0.0.1:{peer_secretflow_port}\"),\n",
    "        },\n",
    "        self_party=self_party,\n",
    "    ),\n",
    "    logging_level=\"error\",\n",
    ")"
   ]
  },
  {
   "cell_type": "code",
   "execution_count": null,
   "id": "764bd227",
   "metadata": {},
   "outputs": [],
   "source": [
    "from secretnote.compat.spu import (\n",
    "    SPUConfig,\n",
    "    SPUClusterDef,\n",
    "    SPUNode,\n",
    "    SPURuntimeConfig,\n",
    "    SPUProtocolKind,\n",
    "    SPUFieldType,\n",
    ")\n",
    "\n",
    "spu_config = SPUConfig(\n",
    "    cluster_def=SPUClusterDef(\n",
    "        nodes=[\n",
    "            SPUNode(party=self_party, address=f\"127.0.0.1:{self_spu_port}\"),\n",
    "            SPUNode(party=peer_party, address=f\"127.0.0.1:{peer_spu_port}\"),\n",
    "        ],\n",
    "        runtime_config=SPURuntimeConfig(\n",
    "            protocol=SPUProtocolKind.SEMI2K,\n",
    "            field=SPUFieldType.FM128,\n",
    "        ),\n",
    "    )\n",
    ")"
   ]
  },
  {
   "cell_type": "code",
   "execution_count": null,
   "id": "0603e573",
   "metadata": {},
   "outputs": [],
   "source": [
    "import secretflow\n",
    "\n",
    "secretflow.shutdown()\n",
    "secretflow.init(**secretflow_config.dict())"
   ]
  },
  {
   "cell_type": "code",
   "execution_count": null,
   "id": "6065a829",
   "metadata": {},
   "outputs": [],
   "source": [
    "bob = secretflow.PYU(self_party)\n",
    "alice = secretflow.PYU(peer_party)\n",
    "spu = secretflow.SPU(**spu_config.dict())"
   ]
  },
  {
   "cell_type": "code",
   "execution_count": null,
   "id": "0c57b3af",
   "metadata": {},
   "outputs": [],
   "source": [
    "import jax.numpy as jnp\n",
    "import numpy as np\n",
    "import secretnote.functional as sfx\n",
    "\n",
    "\n",
    "def multiply(x: np.ndarray, y: float):\n",
    "    return jnp.multiply(x, y)"
   ]
  },
  {
   "cell_type": "code",
   "execution_count": null,
   "id": "756a9be5",
   "metadata": {},
   "outputs": [],
   "source": [
    "from opentelemetry import trace\n",
    "from opentelemetry.exporter.otlp.proto.grpc.trace_exporter import OTLPSpanExporter\n",
    "from opentelemetry.sdk.resources import SERVICE_NAME, Resource\n",
    "from opentelemetry.sdk.trace import TracerProvider\n",
    "from opentelemetry.sdk.trace.export import BatchSpanProcessor\n",
    "\n",
    "resource = Resource(attributes={SERVICE_NAME: self_party})\n",
    "provider = TracerProvider(resource=resource)\n",
    "processor = BatchSpanProcessor(\n",
    "    OTLPSpanExporter(endpoint=\"localhost:4317\", insecure=True)\n",
    ")\n",
    "provider.add_span_processor(processor)\n",
    "trace.set_tracer_provider(provider)"
   ]
  },
  {
   "cell_type": "code",
   "execution_count": null,
   "id": "629a9fed",
   "metadata": {},
   "outputs": [],
   "source": [
    "from secretnote.instrumentation import ProfilingInstrumentor\n",
    "\n",
    "with ProfilingInstrumentor():\n",
    "    array = sfx.use_cleartext(alice)(...)\n",
    "    array = sfx.use_relocation(spu, array)()\n",
    "\n",
    "    multiplier = sfx.use_cleartext(bob)(0.5)\n",
    "    multiplier = sfx.use_relocation(spu, multiplier)()\n",
    "\n",
    "    result = sfx.use_function(spu, array, multiplier)(multiply)\n",
    "\n",
    "    result = sfx.use_relocation(alice, result)()\n",
    "    sfx.use_barrier(result)()"
   ]
  }
 ],
 "metadata": {
  "kernelspec": {
   "display_name": ".venv",
   "language": "python",
   "name": "python3"
  },
  "language_info": {
   "codemirror_mode": {
    "name": "ipython",
    "version": 3
   },
   "file_extension": ".py",
   "mimetype": "text/x-python",
   "name": "python",
   "nbconvert_exporter": "python",
   "pygments_lexer": "ipython3",
   "version": "3.8.17"
  },
  "papermill": {
   "default_parameters": {},
   "duration": 2.249147,
   "end_time": "2023-09-18T00:12:43.271623",
   "environment_variables": {},
   "exception": null,
   "input_path": "examples/sf-2pt-local-ray-instances.ipynb",
   "output_path": "examples/sf-2pt-local-ray-instances.ipynb",
   "parameters": {
    "peer_party": "alice",
    "self_party": "bob"
   },
   "start_time": "2023-09-18T00:12:41.022476",
   "version": "2.4.0"
  }
 },
 "nbformat": 4,
 "nbformat_minor": 5
}
