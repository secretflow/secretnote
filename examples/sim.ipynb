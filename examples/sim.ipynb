{
 "cells": [
  {
   "cell_type": "code",
   "execution_count": null,
   "metadata": {},
   "outputs": [],
   "source": [
    "%load_ext autoreload\n",
    "%autoreload 2\n"
   ]
  },
  {
   "cell_type": "code",
   "execution_count": null,
   "metadata": {},
   "outputs": [],
   "source": [
    "import os\n",
    "\n",
    "PRESET = os.environ.setdefault(\"PRESET\", \"millionaires\")\n",
    "SELF_PARTY = os.environ.setdefault(\"SELF_PARTY\", \"sim\")\n"
   ]
  },
  {
   "cell_type": "code",
   "execution_count": null,
   "metadata": {},
   "outputs": [],
   "source": [
    "import ray\n",
    "from opentelemetry import trace\n",
    "from opentelemetry.sdk.environment_variables import OTEL_SERVICE_NAME\n",
    "\n",
    "from secretnote.instrumentation import Profiler\n",
    "from secretnote.instrumentation.sdk import (\n",
    "    setup_tracing,\n",
    "    setup_debug_exporter,\n",
    "    inherit_tracing_context,\n",
    ")\n",
    "from secretnote.instrumentation.rules import create_default_rules\n",
    "\n",
    "ray.shutdown()\n",
    "\n",
    "create_default_rules()\n",
    "\n",
    "os.environ[OTEL_SERVICE_NAME] = f\"{PRESET}:{SELF_PARTY}\"\n",
    "\n",
    "setup_tracing()\n",
    "# setup_debug_exporter()\n",
    "\n",
    "with trace.get_tracer(__name__).start_as_current_span(\n",
    "    \"sim_trace\",\n",
    "    context=inherit_tracing_context(),\n",
    "):\n",
    "    with Profiler() as profiler:\n",
    "        with open(f\"presets/{PRESET}/_world.py\") as f:\n",
    "            _world = compile(f.read(), f.name, \"exec\")\n",
    "        with open(f\"presets/{PRESET}/_algorithm.py\") as f:\n",
    "            _algorithm = compile(f.read(), f.name, \"exec\")\n",
    "        exec(_world, globals())\n",
    "        exec(_algorithm, globals())\n"
   ]
  },
  {
   "cell_type": "code",
   "execution_count": null,
   "metadata": {},
   "outputs": [],
   "source": [
    "from secretnote.display.app import visualize_run\n",
    "\n",
    "visualize_run(profiler)\n"
   ]
  }
 ],
 "metadata": {
  "kernelspec": {
   "display_name": "Python 3 (ipykernel)",
   "language": "python",
   "name": "python3"
  },
  "language_info": {
   "codemirror_mode": {
    "name": "ipython",
    "version": 3
   },
   "file_extension": ".py",
   "mimetype": "text/x-python",
   "name": "python",
   "nbconvert_exporter": "python",
   "pygments_lexer": "ipython3",
   "version": "3.8.17"
  }
 },
 "nbformat": 4,
 "nbformat_minor": 4
}
