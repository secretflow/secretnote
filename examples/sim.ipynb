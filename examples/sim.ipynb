{
 "cells": [
  {
   "cell_type": "code",
   "execution_count": 1,
   "metadata": {},
   "outputs": [],
   "source": [
    "import os\n",
    "\n",
    "PRESET = os.environ.setdefault(\"PRESET\", \"test_binary_classification_eval\")\n",
    "SELF_PARTY = os.environ.setdefault(\"SELF_PARTY\", \"sim\")\n"
   ]
  },
  {
   "cell_type": "code",
   "execution_count": 2,
   "metadata": {},
   "outputs": [
    {
     "name": "stderr",
     "output_type": "stream",
     "text": [
      "2023-10-19 18:55:27,473\tINFO util.py:159 -- Missing packages: ['ipywidgets']. Run `pip install -U ipywidgets`, then restart the notebook server for rich notebook output.\n",
      "2023-10-19 18:55:30,847\tINFO worker.py:1612 -- Started a local Ray instance. View the dashboard at \u001b[1m\u001b[32mhttp://127.0.0.1:8265 \u001b[39m\u001b[22m\n",
      "INFO:jax._src.xla_bridge:Unable to initialize backend 'cuda': module 'jaxlib.xla_extension' has no attribute 'GpuAllocatorConfig'\n",
      "INFO:jax._src.xla_bridge:Unable to initialize backend 'rocm': module 'jaxlib.xla_extension' has no attribute 'GpuAllocatorConfig'\n",
      "INFO:jax._src.xla_bridge:Unable to initialize backend 'tpu': module 'jaxlib.xla_extension' has no attribute 'get_tpu_client'\n",
      "INFO:jax._src.xla_bridge:Unable to initialize backend 'plugin': xla_extension has no attributes named get_plugin_device_client. Compile TensorFlow with //tensorflow/compiler/xla/python:enable_plugin_device set to true (defaults to false) to enable this.\n",
      "\u001b[2m\u001b[36m(_run pid=26611)\u001b[0m INFO:jax._src.xla_bridge:Unable to initialize backend 'cuda': module 'jaxlib.xla_extension' has no attribute 'GpuAllocatorConfig'\n",
      "\u001b[2m\u001b[36m(_run pid=26611)\u001b[0m INFO:jax._src.xla_bridge:Unable to initialize backend 'rocm': module 'jaxlib.xla_extension' has no attribute 'GpuAllocatorConfig'\n",
      "\u001b[2m\u001b[36m(_run pid=26611)\u001b[0m INFO:jax._src.xla_bridge:Unable to initialize backend 'tpu': module 'jaxlib.xla_extension' has no attribute 'get_tpu_client'\n",
      "\u001b[2m\u001b[36m(_run pid=26611)\u001b[0m INFO:jax._src.xla_bridge:Unable to initialize backend 'plugin': xla_extension has no attributes named get_plugin_device_client. Compile TensorFlow with //tensorflow/compiler/xla/python:enable_plugin_device set to true (defaults to false) to enable this.\n"
     ]
    }
   ],
   "source": [
    "import ray\n",
    "from opentelemetry import trace\n",
    "from opentelemetry.sdk.environment_variables import OTEL_SERVICE_NAME\n",
    "\n",
    "from secretnote.instrumentation import Profiler\n",
    "from secretnote.instrumentation.sdk import (\n",
    "    setup_tracing,\n",
    "    setup_debug_exporter,\n",
    "    setup_memory_exporter,\n",
    "    inherit_tracing_context,\n",
    "    setup_jsonlines_exporter,\n",
    ")\n",
    "from secretnote.instrumentation.rules import create_default_rules\n",
    "\n",
    "ray.shutdown()\n",
    "\n",
    "create_default_rules()\n",
    "\n",
    "os.environ[OTEL_SERVICE_NAME] = f\"{PRESET}:{SELF_PARTY}\"\n",
    "\n",
    "setup_tracing()\n",
    "setup_debug_exporter()\n",
    "setup_jsonlines_exporter(f\"{PRESET}.{SELF_PARTY}\")\n",
    "\n",
    "exporter = setup_memory_exporter()\n",
    "\n",
    "with trace.get_tracer(__name__).start_as_current_span(\n",
    "    \"sim_trace\",\n",
    "    context=inherit_tracing_context(),\n",
    "):\n",
    "    with Profiler():\n",
    "        with open(f\"presets/{PRESET}/_world.py\") as f:\n",
    "            _world = compile(f.read(), f.name, \"exec\")\n",
    "        with open(f\"presets/{PRESET}/_algorithm.py\") as f:\n",
    "            _algorithm = compile(f.read(), f.name, \"exec\")\n",
    "        exec(_world, globals())\n",
    "        exec(_algorithm, globals())\n"
   ]
  }
 ],
 "metadata": {
  "kernelspec": {
   "display_name": "Python 3 (ipykernel)",
   "language": "python",
   "name": "python3"
  },
  "language_info": {
   "codemirror_mode": {
    "name": "ipython",
    "version": 3
   },
   "file_extension": ".py",
   "mimetype": "text/x-python",
   "name": "python",
   "nbconvert_exporter": "python",
   "pygments_lexer": "ipython3",
   "version": "3.8.17"
  }
 },
 "nbformat": 4,
 "nbformat_minor": 4
}
