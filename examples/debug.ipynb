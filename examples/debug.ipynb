{
 "cells": [
  {
   "cell_type": "code",
   "execution_count": 8,
   "metadata": {},
   "outputs": [],
   "source": [
    "from secretnote.instrumentation.tree_util import pytree_snapshot, recursive_defaultdict\n"
   ]
  },
  {
   "cell_type": "code",
   "execution_count": 9,
   "metadata": {},
   "outputs": [],
   "source": [
    "import random\n",
    "\n",
    "from jax.tree_util import (\n",
    "    GetAttrKey,\n",
    "    register_pytree_with_keys_class,\n",
    "    tree_unflatten,\n",
    "    tree_structure,\n",
    ")\n",
    "\n",
    "\n",
    "@register_pytree_with_keys_class\n",
    "class MyContainer:\n",
    "    def __init__(self, x):\n",
    "        self.x = x\n",
    "        self.r = random.random()\n",
    "\n",
    "    def tree_flatten_with_keys(self):\n",
    "        return (\n",
    "            (GetAttrKey(\"x\"), self.x),\n",
    "            (GetAttrKey(\"r\"), self.r),\n",
    "        ), None\n",
    "\n",
    "    @classmethod\n",
    "    def tree_unflatten(cls, aux, children):\n",
    "        self = cls(children[0])\n",
    "        self.r = children[1]\n",
    "        return self\n",
    "\n",
    "    def __hash__(self):\n",
    "        return hash((self.x, self.r))\n"
   ]
  },
  {
   "cell_type": "code",
   "execution_count": 10,
   "metadata": {},
   "outputs": [],
   "source": [
    "c = MyContainer(1)\n",
    "\n",
    "data = {\n",
    "    1: [1, 2, 3],\n",
    "    2: MyContainer(1),\n",
    "    3: {MyContainer(2): [4, 5, 6]},\n",
    "}\n"
   ]
  },
  {
   "cell_type": "code",
   "execution_count": 11,
   "metadata": {},
   "outputs": [],
   "source": [
    "serialized = pytree_snapshot(data)\n"
   ]
  },
  {
   "cell_type": "code",
   "execution_count": 18,
   "metadata": {},
   "outputs": [
    {
     "data": {
      "text/plain": [
       "{'1': {'0': PyTreeLeafSnapshot(id='python/id/0x104ef5d10', type='builtins.int', snapshot='1'),\n",
       "  '1': PyTreeLeafSnapshot(id='python/id/0x104ef5d30', type='builtins.int', snapshot='2'),\n",
       "  '2': PyTreeLeafSnapshot(id='python/id/0x104ef5d50', type='builtins.int', snapshot='3')},\n",
       " '2': {'0': PyTreeLeafSnapshot(id='python/id/0x104ef5d10', type='builtins.int', snapshot='1'),\n",
       "  '1': PyTreeLeafSnapshot(id='python/id/0x128bda370', type='builtins.float', snapshot='0.050695655302517295')},\n",
       " '3': {},\n",
       " 'python/id/0x2b44005b0': {'0': PyTreeLeafSnapshot(id='python/id/0x104ef5d70', type='builtins.int', snapshot='4'),\n",
       "  '1': PyTreeLeafSnapshot(id='python/id/0x104ef5d90', type='builtins.int', snapshot='5'),\n",
       "  '2': PyTreeLeafSnapshot(id='python/id/0x104ef5db0', type='builtins.int', snapshot='6')}}"
      ]
     },
     "execution_count": 18,
     "metadata": {},
     "output_type": "execute_result"
    }
   ],
   "source": [
    "import json\n",
    "\n",
    "\n",
    "structure = recursive_defaultdict()\n",
    "\n",
    "for kp in serialized.keypaths:\n",
    "    s = {}\n",
    "    for k in kp[:-1]:\n",
    "        s = structure[k]\n",
    "    s[kp[-1]] = True\n",
    "\n",
    "tree_unflatten(tree_structure(json.loads(json.dumps(structure))), serialized.leaves)\n"
   ]
  }
 ],
 "metadata": {
  "kernelspec": {
   "display_name": ".venv",
   "language": "python",
   "name": "python3"
  },
  "language_info": {
   "codemirror_mode": {
    "name": "ipython",
    "version": 3
   },
   "file_extension": ".py",
   "mimetype": "text/x-python",
   "name": "python",
   "nbconvert_exporter": "python",
   "pygments_lexer": "ipython3",
   "version": "3.8.17"
  }
 },
 "nbformat": 4,
 "nbformat_minor": 2
}
