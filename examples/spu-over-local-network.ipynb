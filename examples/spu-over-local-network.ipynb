{
 "cells": [
  {
   "cell_type": "markdown",
   "metadata": {},
   "source": [
    "# SPU over local network\n",
    "\n",
    "This example spins up a 2-party SPU network. Both parties listen on 0.0.0.0, and will connect to each other over the local network instead of through the loopback interface (localhost).\n"
   ]
  },
  {
   "cell_type": "markdown",
   "metadata": {},
   "source": [
    "First, start an example 2-party SecretFlow network in simulation mode:\n"
   ]
  },
  {
   "cell_type": "code",
   "execution_count": null,
   "metadata": {},
   "outputs": [],
   "source": [
    "import secretflow\n",
    "from secretnote.compat.secretflow.device.driver import SFConfigSimulationFullyManaged\n",
    "\n",
    "secretflow.shutdown()\n",
    "\n",
    "secretflow_config = SFConfigSimulationFullyManaged(parties=[\"alice\", \"bob\"])\n",
    "secretflow.init(**secretflow_config.dict())\n",
    "\n",
    "alice = secretflow.PYU(\"alice\")\n",
    "bob = secretflow.PYU(\"bob\")"
   ]
  },
  {
   "cell_type": "markdown",
   "metadata": {},
   "source": [
    "Figure out what the local IP address is for this machine. Depending on your network configuration, there may be several applicable addresses (e.g. one on Wireless and one on Ethernet). We will be using [`netifaces`][netifaces] to find the first interface that is up and has an `AF_INET` address assigned to it:\n",
    "\n",
    "[netifaces]: https://pypi.org/project/netifaces/\n"
   ]
  },
  {
   "cell_type": "code",
   "execution_count": null,
   "metadata": {},
   "outputs": [],
   "source": [
    "import netifaces"
   ]
  },
  {
   "cell_type": "code",
   "execution_count": null,
   "metadata": {},
   "outputs": [],
   "source": [
    "for iface in netifaces.interfaces():\n",
    "    if iface.startswith(\"lo\"):\n",
    "        # skip loopback interface\n",
    "        continue\n",
    "    if iface.startswith(\"vbox\"):\n",
    "        # skip virtualbox interfaces\n",
    "        continue\n",
    "    details = netifaces.ifaddresses(iface)\n",
    "    if netifaces.AF_INET not in details:\n",
    "        # skip interfaces without an IP address\n",
    "        continue\n",
    "    inet_addr = details[netifaces.AF_INET][0][\"addr\"]\n",
    "    break\n",
    "else:\n",
    "    raise RuntimeError(\"No suitable network interface found\")\n",
    "\n",
    "print(f\"Using interface {iface} with address {inet_addr}\")"
   ]
  },
  {
   "cell_type": "markdown",
   "metadata": {},
   "source": [
    "Find two ports that are available on this machine. We will be using [`portpicker`][portpicker]:\n",
    "\n",
    "[portpicker]: https://pypi.org/project/portpicker/\n"
   ]
  },
  {
   "cell_type": "code",
   "execution_count": null,
   "metadata": {},
   "outputs": [],
   "source": [
    "import portpicker"
   ]
  },
  {
   "cell_type": "code",
   "execution_count": null,
   "metadata": {},
   "outputs": [],
   "source": [
    "port_for_alice = portpicker.pick_unused_port()\n",
    "port_for_bob = portpicker.pick_unused_port()\n",
    "\n",
    "alice_bind_to = f\"127.0.0.1:{port_for_alice}\"\n",
    "bob_bind_to = f\"127.0.0.1:{port_for_bob}\"\n",
    "\n",
    "connect_to_alice_via = f\"{inet_addr}:{port_for_alice}\"\n",
    "connect_to_bob_via = f\"{inet_addr}:{port_for_bob}\"\n",
    "\n",
    "print(\n",
    "    f\"\"\"Network layout:\n",
    "alice: {alice_bind_to} -> {connect_to_alice_via}\n",
    "bob:   {bob_bind_to} -> {connect_to_bob_via}\"\"\"\n",
    ")"
   ]
  },
  {
   "cell_type": "markdown",
   "metadata": {},
   "source": [
    "Spin up the SPU network:\n"
   ]
  },
  {
   "cell_type": "code",
   "execution_count": null,
   "metadata": {},
   "outputs": [],
   "source": [
    "from secretnote.compat.spu import (\n",
    "    SPUClusterDef,\n",
    "    SPUConfig,\n",
    "    SPURuntimeConfig,\n",
    "    SPUProtocolKind,\n",
    "    SPUFieldType,\n",
    "    SPUNode,\n",
    ")\n",
    "\n",
    "mpc_config = SPUConfig(\n",
    "    cluster_def=SPUClusterDef(\n",
    "        nodes=[\n",
    "            SPUNode(\n",
    "                party=\"alice\",\n",
    "                listen_addr=alice_bind_to,\n",
    "                address=connect_to_alice_via,\n",
    "            ),\n",
    "            SPUNode(\n",
    "                party=\"bob\",\n",
    "                listen_addr=bob_bind_to,\n",
    "                address=connect_to_bob_via,\n",
    "            ),\n",
    "        ],\n",
    "        runtime_config=SPURuntimeConfig(\n",
    "            protocol=SPUProtocolKind.SEMI2K,\n",
    "            field=SPUFieldType.FM128,\n",
    "        ),\n",
    "    ),\n",
    ")\n",
    "\n",
    "mpc = secretflow.SPU(**mpc_config.dict())\n",
    "mpc.init()"
   ]
  },
  {
   "cell_type": "markdown",
   "metadata": {},
   "source": [
    "Run an example JAX program on the SPU network:\n"
   ]
  },
  {
   "cell_type": "code",
   "execution_count": null,
   "metadata": {},
   "outputs": [],
   "source": [
    "import jax.numpy as jnp"
   ]
  },
  {
   "cell_type": "code",
   "execution_count": null,
   "metadata": {},
   "outputs": [],
   "source": [
    "def dot(x, y):\n",
    "    return jnp.dot(x, y)"
   ]
  },
  {
   "cell_type": "code",
   "execution_count": null,
   "metadata": {},
   "outputs": [],
   "source": [
    "product = mpc(dot)(\n",
    "    secretflow.to(alice, jnp.arange(10)).to(mpc),\n",
    "    secretflow.to(bob, jnp.arange(10, 20)).to(mpc),\n",
    ")\n",
    "secretflow.reveal(product)"
   ]
  },
  {
   "cell_type": "markdown",
   "metadata": {},
   "source": [
    "Stop everything:\n"
   ]
  },
  {
   "cell_type": "code",
   "execution_count": null,
   "metadata": {},
   "outputs": [],
   "source": [
    "mpc.shutdown()\n",
    "secretflow.shutdown()"
   ]
  }
 ],
 "metadata": {
  "kernelspec": {
   "display_name": ".venv",
   "language": "python",
   "name": "python3"
  },
  "language_info": {
   "codemirror_mode": {
    "name": "ipython",
    "version": 3
   },
   "file_extension": ".py",
   "mimetype": "text/x-python",
   "name": "python",
   "nbconvert_exporter": "python",
   "pygments_lexer": "ipython3",
   "version": "3.8.17"
  },
  "orig_nbformat": 4
 },
 "nbformat": 4,
 "nbformat_minor": 2
}
